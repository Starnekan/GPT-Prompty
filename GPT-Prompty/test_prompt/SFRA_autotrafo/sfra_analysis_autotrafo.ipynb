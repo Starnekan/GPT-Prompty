{
 "cells": [
  {
   "cell_type": "markdown",
   "id": "a2afc412",
   "metadata": {},
   "source": [
    "# Analiza SFRA – Autotransformator AT-2 (Żukowice, 220/110kV)"
   ]
  },
  {
   "cell_type": "code",
   "execution_count": null,
   "id": "f06ea3e9",
   "metadata": {},
   "outputs": [],
   "source": [
    "import pandas as pd\n",
    "from IPython.display import Markdown\n",
    "import os\n"
   ]
  },
  {
   "cell_type": "code",
   "execution_count": null,
   "id": "6325a32b",
   "metadata": {},
   "outputs": [],
   "source": [
    "# Wczytaj plik CSV (upewnij się, że plik jest w tym samym katalogu lub podaj ścieżkę)\n",
    "file_path = 'TTRU3_EXP_Export_2025-02-20T10_43_02.csv'\n",
    "df = pd.read_csv(file_path, sep=',', encoding='utf-8')\n",
    "df.columns = df.columns.str.strip()\n",
    "df.head()"
   ]
  },
  {
   "cell_type": "code",
   "execution_count": null,
   "id": "2637f328",
   "metadata": {},
   "outputs": [],
   "source": [
    "# Wygeneruj input do promptu na podstawie pierwszego rekordu\n",
    "sample = df.iloc[0]\n",
    "prompt_text = f'''\n",
    "Dane z pomiaru SFRA autotransformatora AT-2 (Żukowice, 220/110kV):\n",
    "\n",
    "- øA:\n",
    "  - RATIO: {sample['øA RATIO']}\n",
    "  - ERROR: {sample['øA RATIO ERROR']}%\n",
    "  - PHASE DEV: {sample['øA PHASE DEV']}°\n",
    "  - RMS CURRENT: {sample['øA RMS CURRENT']} A\n",
    "\n",
    "- øB:\n",
    "  - RATIO: {sample['øB RATIO']}\n",
    "  - ERROR: {sample['øB RATIO ERROR']}%\n",
    "  - PHASE DEV: {sample['øB PHASE DEV']}°\n",
    "  - RMS CURRENT: {sample['øB RMS CURRENT']} A\n",
    "\n",
    "- øC:\n",
    "  - RATIO: {sample['øC RATIO']}\n",
    "  - ERROR: {sample['øC RATIO ERROR']}%\n",
    "  - PHASE DEV: {sample['øC PHASE DEV']}°\n",
    "  - RMS CURRENT: {sample['øC RMS CURRENT']} A\n",
    "\n",
    "Pomiar inspekcyjny. Oceń poprawność, wskaż anomalie i zaproponuj dalsze działania serwisowe.\n",
    "'''\n",
    "Markdown(prompt_text)"
   ]
  },
  {
   "cell_type": "markdown",
   "id": "3ef17155",
   "metadata": {},
   "source": [
    "## 🧠 Odpowiedź GPT\n",
    "(Wklej tutaj wynik odpowiedzi z modelu GPT na podstawie powyższego promptu)"
   ]
  }
 ],
 "metadata": {},
 "nbformat": 4,
 "nbformat_minor": 5
}
