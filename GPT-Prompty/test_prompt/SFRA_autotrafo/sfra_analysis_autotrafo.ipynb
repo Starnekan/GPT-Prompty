	
cells	
0	
cell_type	"markdown"
id	"a2afc412"
metadata	{}
source	
0	"# Analiza SFRA – Autotransformator AT-2 (Żukowice, 220/110kV)"
1	
cell_type	"code"
execution_count	null
id	"f06ea3e9"
metadata	{}
outputs	[]
source	
0	"import pandas as pd\n"
1	"from IPython.display import Markdown\n"
2	"import os\n"
2	
cell_type	"code"
execution_count	null
id	"6325a32b"
metadata	{}
outputs	[]
source	
0	"# Wczytaj plik CSV (upewnij się, że plik jest w tym samym katalogu lub podaj ścieżkę)\n"
1	"file_path = 'TTRU3_EXP_Export_2025-02-20T10_43_02.csv'\n"
2	"df = pd.read_csv(file_path, sep=',', encoding='utf-8')\n"
3	"df.columns = df.columns.str.strip()\n"
4	"df.head()"
3	
cell_type	"code"
execution_count	null
id	"2637f328"
metadata	{}
outputs	[]
source	
0	"# Wygeneruj input do promptu na podstawie pierwszego rekordu\n"
1	"sample = df.iloc[0]\n"
2	"prompt_text = f'''\n"
3	"Dane z pomiaru SFRA autotransformatora AT-2 (Żukowice, 220/110kV):\n"
4	"\n"
5	"- øA:\n"
6	"  - RATIO: {sample['øA RATIO']}\n"
7	"  - ERROR: {sample['øA RATIO ERROR']}%\n"
8	"  - PHASE DEV: {sample['øA PHASE DEV']}°\n"
9	"  - RMS CURRENT: {sample['øA RMS CURRENT']} A\n"
10	"\n"
11	"- øB:\n"
12	"  - RATIO: {sample['øB RATIO']}\n"
13	"  - ERROR: {sample['øB RATIO ERROR']}%\n"
14	"  - PHASE DEV: {sample['øB PHASE DEV']}°\n"
15	"  - RMS CURRENT: {sample['øB RMS CURRENT']} A\n"
16	"\n"
17	"- øC:\n"
18	"  - RATIO: {sample['øC RATIO']}\n"
19	"  - ERROR: {sample['øC RATIO ERROR']}%\n"
20	"  - PHASE DEV: {sample['øC PHASE DEV']}°\n"
21	"  - RMS CURRENT: {sample['øC RMS CURRENT']} A\n"
22	"\n"
23	"Pomiar inspekcyjny. Oceń poprawność, wskaż anomalie i zaproponuj dalsze działania serwisowe.\n"
24	"'''\n"
25	"Markdown(prompt_text)"
4	
cell_type	"markdown"
id	"3ef17155"
metadata	{}
source	
0	"## 🧠 Odpowiedź GPT\n"
1	"(Wklej tutaj wynik odpowiedzi z modelu GPT na podstawie powyższego promptu)"
metadata	{}
nbformat	4
nbformat_minor	5
